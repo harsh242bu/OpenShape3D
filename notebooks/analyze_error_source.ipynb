{
 "cells": [
  {
   "cell_type": "code",
   "execution_count": 2,
   "metadata": {},
   "outputs": [],
   "source": [
    "import torch\n",
    "import numpy as np\n",
    "from numpy.linalg import norm\n",
    "from sklearn.cluster import KMeans, DBSCAN\n",
    "import torch.nn.functional as F"
   ]
  },
  {
   "cell_type": "code",
   "execution_count": 3,
   "metadata": {},
   "outputs": [],
   "source": [
    "def get_confusion_matrix(idx2category, labels_all, logits_all):\n",
    "    # modelnet_dict = torch.load(\"src/eval_data/modelnet_dict.pt\")\n",
    "\n",
    "    cat_list = list(idx2category.values())\n",
    "    \n",
    "    print(\"labels_all: \", labels_all.shape)\n",
    "    \n",
    "    _, pred = logits_all.topk(1, 1, True, True)\n",
    "    pred = pred.reshape(-1)\n",
    "    \n",
    "    true_pred = torch.argwhere(pred == labels_all).reshape(-1)\n",
    "    false_pred = torch.argwhere(pred != labels_all).reshape(-1)\n",
    "    \n",
    "    res = torch.zeros(len(cat_list), len(cat_list))\n",
    "    print(\"res: \", res.shape)\n",
    "    for val in true_pred:\n",
    "        idx = val.item()\n",
    "        res[labels_all[idx], pred[idx]] += 1\n",
    "    \n",
    "    for val in false_pred:\n",
    "        idx = val.item()\n",
    "        res[labels_all[idx], pred[idx]] += 1\n",
    "        # print(labels_all[idx], pred[idx])\n",
    "\n",
    "    \n",
    "    res_norm = F.softmax(res, dim=1)\n",
    "\n",
    "    return res, res_norm"
   ]
  },
  {
   "cell_type": "code",
   "execution_count": 11,
   "metadata": {},
   "outputs": [],
   "source": [
    "# device = torch.device('cuda' if torch.cuda.is_available() else 'cpu')\n",
    "clip_feat_path = \"../meta_data/lvis_cat_name_pt_feat.npy\"\n",
    "clip_cat_feat = np.load(clip_feat_path, allow_pickle=True)\n",
    "objaverse_dict = torch.load(\"../src/eval_data/objaverse_dict.pt\")\n",
    "ov_category2idx = objaverse_dict[\"category2idx\"]\n",
    "ov_idx2category = objaverse_dict[\"idx2category\"]\n",
    "ov_category2idx = objaverse_dict[\"category2idx\"]\n",
    "\n",
    "ov_labels_all = objaverse_dict[\"labels_all\"]\n",
    "ov_logits_all = objaverse_dict[\"logits_all\"]\n",
    "\n",
    "objaverse_dict = None\n",
    "# print(\"clip_cat_feat: \", clip_cat_feat.shape) # (1156, 1280)\n",
    "# clip_cat_feat = F.normalize(clip_cat_feat, dim=-1)\n",
    "clip_cat_feat = clip_cat_feat / norm(clip_cat_feat, axis=1, keepdims=True)\n",
    "\n",
    "eps = 0.61855\n",
    "db_scan = DBSCAN(eps=eps, min_samples=2).fit(clip_cat_feat)\n",
    "dbscan_labels = db_scan.labels_"
   ]
  },
  {
   "cell_type": "code",
   "execution_count": 12,
   "metadata": {},
   "outputs": [],
   "source": [
    "unique_labels = np.unique(dbscan_labels)\n",
    "cluster_dict = {}\n",
    "for l in unique_labels:\n",
    "    if l == -1:\n",
    "        continue\n",
    "    idx = np.argwhere(dbscan_labels == l).reshape(-1)\n",
    "    cluster_dict[l] = idx.tolist()\n"
   ]
  },
  {
   "cell_type": "code",
   "execution_count": 13,
   "metadata": {},
   "outputs": [
    {
     "name": "stdout",
     "output_type": "stream",
     "text": [
      "Cluster 1: 8\n",
      "Cluster 4: 9\n",
      "Cluster 6: 28\n",
      "Cluster 12: 18\n",
      "Cluster 14: 9\n",
      "Cluster 15: 26\n",
      "Cluster 24: 23\n",
      "Cluster 27: 14\n",
      "Cluster 29: 9\n",
      "Cluster 41: 21\n",
      "Cluster 43: 23\n",
      "Cluster 46: 10\n",
      "Cluster 55: 8\n",
      "Cluster 56: 12\n",
      "Cluster 59: 8\n",
      "Cluster 82: 9\n",
      "Cluster 106: 8\n",
      "Cluster 128: 9\n"
     ]
    }
   ],
   "source": [
    "for k, v in cluster_dict.items():\n",
    "    if len(v) > 7:\n",
    "        print(f\"Cluster {k}: {len(v)}\")"
   ]
  },
  {
   "cell_type": "code",
   "execution_count": 14,
   "metadata": {},
   "outputs": [],
   "source": [
    "## Lets analyze Cluster 56: \n",
    "c_no = 56"
   ]
  },
  {
   "cell_type": "code",
   "execution_count": 15,
   "metadata": {},
   "outputs": [
    {
     "data": {
      "text/plain": [
       "[143, 248, 367, 480, 496, 769, 796, 867, 902, 906, 986, 1057]"
      ]
     },
     "execution_count": 15,
     "metadata": {},
     "output_type": "execute_result"
    }
   ],
   "source": [
    "cluster_dict[c_no]"
   ]
  },
  {
   "cell_type": "code",
   "execution_count": 16,
   "metadata": {},
   "outputs": [
    {
     "name": "stdout",
     "output_type": "stream",
     "text": [
      "labels_all:  torch.Size([46205])\n",
      "res:  torch.Size([1156, 1156])\n"
     ]
    }
   ],
   "source": [
    "# baseline_labels_all = torch.load(\"../exp/finetune_1layer@20240129-151703/results/ov_labels_all_finetune_test.pt\")\n",
    "# baseline_logits_all = torch.load(\"../exp/finetune_1layer@20240129-151703/results/ov_logits_all_finetune_test.pt\")\n",
    "confusion_mat, confusion_mat_norm = get_confusion_matrix(ov_idx2category, ov_labels_all, ov_logits_all)"
   ]
  },
  {
   "cell_type": "code",
   "execution_count": 17,
   "metadata": {},
   "outputs": [
    {
     "data": {
      "text/plain": [
       "torch.Size([12, 1156])"
      ]
     },
     "execution_count": 17,
     "metadata": {},
     "output_type": "execute_result"
    }
   ],
   "source": [
    "confusion_mat[cluster_dict[c_no]].shape"
   ]
  },
  {
   "cell_type": "code",
   "execution_count": 62,
   "metadata": {},
   "outputs": [
    {
     "data": {
      "text/plain": [
       "[143, 248, 367, 480, 496]"
      ]
     },
     "execution_count": 62,
     "metadata": {},
     "output_type": "execute_result"
    }
   ],
   "source": [
    "cluster_dict[c_no][:5]"
   ]
  },
  {
   "cell_type": "code",
   "execution_count": 54,
   "metadata": {},
   "outputs": [
    {
     "data": {
      "text/plain": [
       "tensor([-1.8075,  3.8043,  2.8475])"
      ]
     },
     "execution_count": 54,
     "metadata": {},
     "output_type": "execute_result"
    }
   ],
   "source": [
    "torch.sum(a, dim=1)"
   ]
  },
  {
   "cell_type": "code",
   "execution_count": 60,
   "metadata": {},
   "outputs": [],
   "source": [
    "def top_confusion(ov_idx2category, ov_confusion, ov_res_norm, dim=1, topx=40, topy=5):\n",
    "\n",
    "    # mn_res_norm = torch.load(\"src/eval_data/mn_confusion_norm.pt\")\n",
    "    # ov_res_norm = torch.load(\"eval_data/ov_confusion_norm.pt\")\n",
    "\n",
    "    ov_res_norm = ov_res_norm.fill_diagonal_(0)\n",
    "    row_sum = torch.sum(ov_res_norm, dim=dim)\n",
    "    # print(\"row_sum: \", row_sum.shape) # 1156 categories\n",
    "\n",
    "    sorted_idx = torch.argsort(row_sum, descending=True)\n",
    "\n",
    "    # print(\"row_sum: \", row_sum[sorted_idx[:200]] )\n",
    "    print(\"sorted: \", sorted_idx.shape)\n",
    "    sort_cat = [ov_idx2category[i.item()] for i in sorted_idx[:topx]]\n",
    "\n",
    "    # print(\"sorted: \", sorted_idx[:topx], '\\n')\n",
    "    top_xy_dict = {}\n",
    "\n",
    "    for i in sorted_idx[:topx]:\n",
    "        topy_cat=[]\n",
    "        # sim_list = []\n",
    "        confusion = []\n",
    "        # top_xy_dict[i.item()] = {\"cat_name\":[], \"count\": [], \"cats\": []}\n",
    "        topy_pred = torch.argsort(ov_res_norm[i], descending=True)[:topy]\n",
    "        for cat_i in topy_pred:\n",
    "            topy_cat.append(ov_idx2category[cat_i.item()])\n",
    "            # sim_list.append(sim_mat[i][cat_i])\n",
    "            confusion.append(ov_confusion[i][cat_i].item())\n",
    "        \n",
    "        # top_xy_dict[i.item()][\"cats\"] = topy_pred.tolist()\n",
    "        # top_xy_dict[i.item()][\"cat_name\"] = topy_cat\n",
    "        # top_xy_dict[i.item()][\"count\"] = confusion\n",
    "\n",
    "        # topy_cat = [ov_idx2category[i.item()] for i in topy_pred]\n",
    "        print(ov_idx2category[i.item()], \": \", topy_cat)\n",
    "        # print(ov_idx2category[i.item()], \": \", sim_list)\n",
    "        print(ov_idx2category[i.item()], \": \", confusion, '\\n')\n",
    "        # print(ov_idx2category[i.item()], \": \", ov_res_norm[i][topy_pred])\n",
    "    \n",
    "    # print(\"top_xy_dict: \", top_xy_dict)\n",
    "    # np.save(\"src/eval_data/top_xy_dict.npy\", top_xy_dict)\n"
   ]
  },
  {
   "cell_type": "code",
   "execution_count": 56,
   "metadata": {},
   "outputs": [
    {
     "data": {
      "text/plain": [
       "torch.Size([12, 1156])"
      ]
     },
     "execution_count": 56,
     "metadata": {},
     "output_type": "execute_result"
    }
   ],
   "source": [
    "filter_confusion = confusion_mat[cluster_dict[c_no]]\n",
    "filter_confusion_norm = confusion_mat_norm[cluster_dict[c_no]]\n",
    "filter_confusion_norm.shape"
   ]
  },
  {
   "cell_type": "code",
   "execution_count": 66,
   "metadata": {},
   "outputs": [
    {
     "name": "stdout",
     "output_type": "stream",
     "text": [
      "sorted:  torch.Size([5])\n",
      "Band_Aid :  ['briefcase', 'suitcase', 'shoulder_bag', 'handbag', 'shopping_bag']\n",
      "Band_Aid :  [18.0, 8.0, 2.0, 2.0, 1.0] \n",
      "\n",
      "Dixie_cup :  ['handbag', 'shoulder_bag', 'tote_bag', 'clutch_bag', 'duffel_bag']\n",
      "Dixie_cup :  [14.0, 13.0, 11.0, 3.0, 1.0] \n",
      "\n",
      "CD_player :  ['backpack', 'duffel_bag', 'shoulder_bag', 'handbag', 'satchel']\n",
      "CD_player :  [10.0, 7.0, 4.0, 4.0, 1.0] \n",
      "\n",
      "Christmas_tree :  ['shopping_bag', 'tote_bag', 'grocery_bag', 'packet', 'cube']\n",
      "Christmas_tree :  [6.0, 5.0, 3.0, 2.0, 1.0] \n",
      "\n",
      "Bible :  ['backpack', 'shoulder_bag', 'satchel', 'suitcase', 'handbag']\n",
      "Bible :  [4.0, 4.0, 2.0, 2.0, 2.0] \n",
      "\n"
     ]
    }
   ],
   "source": [
    "cat_idx_from_cluster = cluster_dict[c_no][:5]\n",
    "filter_confusion = confusion_mat[cat_idx_from_cluster]\n",
    "filter_confusion_norm = confusion_mat_norm[cat_idx_from_cluster]\n",
    "top_confusion(ov_idx2category, filter_confusion, filter_confusion_norm, dim=1, topx=12, topy=5)"
   ]
  },
  {
   "cell_type": "code",
   "execution_count": 64,
   "metadata": {},
   "outputs": [
    {
     "data": {
      "text/plain": [
       "['briefcase',\n",
       " 'clutch_bag',\n",
       " 'duffel_bag',\n",
       " 'grocery_bag',\n",
       " 'handbag',\n",
       " 'plastic_bag',\n",
       " 'pouch',\n",
       " 'satchel',\n",
       " 'shopping_bag',\n",
       " 'shoulder_bag',\n",
       " 'suitcase',\n",
       " 'tote_bag']"
      ]
     },
     "execution_count": 64,
     "metadata": {},
     "output_type": "execute_result"
    }
   ],
   "source": [
    "cluster_dict[c_no]\n",
    "[ov_idx2category[i] for i in cluster_dict[c_no]]"
   ]
  },
  {
   "cell_type": "code",
   "execution_count": 69,
   "metadata": {},
   "outputs": [
    {
     "name": "stdout",
     "output_type": "stream",
     "text": [
      "143\n",
      "0\n"
     ]
    }
   ],
   "source": [
    "print(ov_category2idx[\"briefcase\"])\n",
    "print(ov_category2idx[\"Band_Aid\"])"
   ]
  },
  {
   "cell_type": "code",
   "execution_count": 72,
   "metadata": {},
   "outputs": [
    {
     "data": {
      "text/plain": [
       "tensor(18.)"
      ]
     },
     "execution_count": 72,
     "metadata": {},
     "output_type": "execute_result"
    }
   ],
   "source": [
    "confusion_mat[143][143]"
   ]
  },
  {
   "cell_type": "code",
   "execution_count": 49,
   "metadata": {},
   "outputs": [
    {
     "name": "stdout",
     "output_type": "stream",
     "text": [
      "idx: 42, val: 1.0\n",
      "idx: 143, val: 8.0\n",
      "idx: 189, val: 2.0\n",
      "idx: 230, val: 2.0\n",
      "idx: 311, val: 1.0\n",
      "idx: 367, val: 1.0\n",
      "idx: 503, val: 1.0\n",
      "idx: 609, val: 1.0\n",
      "idx: 867, val: 1.0\n",
      "idx: 906, val: 2.0\n",
      "idx: 986, val: 24.0\n",
      "idx: 1077, val: 1.0\n"
     ]
    }
   ],
   "source": [
    "for idx, val in enumerate(confusion_mat[986]):\n",
    "    if val > 0:\n",
    "        print(f\"idx: {idx}, val: {val}\")\n",
    "        # print(val.item())\n"
   ]
  },
  {
   "cell_type": "code",
   "execution_count": 28,
   "metadata": {},
   "outputs": [
    {
     "name": "stdout",
     "output_type": "stream",
     "text": [
      "Sharpie :  ['tote_bag', 'shoulder_bag', 'basket', 'handbag', 'clutch_bag']\n",
      "Sharpie :  [22.0, 7.0, 4.0, 4.0, 2.0] \n",
      "\n",
      "Rollerblade :  ['shoulder_bag', 'backpack', 'clutch_bag', 'handbag', 'ski_boot']\n",
      "Rollerblade :  [11.0, 4.0, 4.0, 2.0, 1.0] \n",
      "\n",
      "Ferris_wheel :  ['pouch', 'shopping_bag', 'beanbag', 'chime', 'backpack']\n",
      "Ferris_wheel :  [3.0, 2.0, 2.0, 1.0, 1.0] \n",
      "\n",
      "Bible :  ['backpack', 'shoulder_bag', 'satchel', 'suitcase', 'handbag']\n",
      "Bible :  [4.0, 4.0, 2.0, 2.0, 2.0] \n",
      "\n",
      "Lego :  ['backpack', 'pottery', 'clutch_bag', 'vase', 'wall_socket']\n",
      "Lego :  [4.0, 3.0, 2.0, 2.0, 1.0] \n",
      "\n",
      "Christmas_tree :  ['shopping_bag', 'tote_bag', 'packet', 'shoulder_bag', 'cube']\n",
      "Christmas_tree :  [7.0, 4.0, 3.0, 2.0, 1.0] \n",
      "\n",
      "CD_player :  ['backpack', 'shoulder_bag', 'handbag', 'beanbag', 'tote_bag']\n",
      "CD_player :  [9.0, 4.0, 3.0, 1.0, 1.0] \n",
      "\n",
      "Dixie_cup :  ['shoulder_bag', 'tote_bag', 'clutch_bag', 'hatbox', 'headscarf']\n",
      "Dixie_cup :  [15.0, 9.0, 4.0, 1.0, 1.0] \n",
      "\n",
      "air_conditioner :  ['shoulder_bag', 'packet', 'bucket', 'duffel_bag', 'pouch']\n",
      "air_conditioner :  [5.0, 2.0, 1.0, 1.0, 1.0] \n",
      "\n",
      "aerosol_can :  ['briefcase', 'backpack', 'cap_(headwear)', 'cigar_box', 'duffel_bag']\n",
      "aerosol_can :  [10.0, 2.0, 2.0, 2.0, 1.0] \n",
      "\n",
      "Band_Aid :  ['suitcase', 'shoulder_bag', 'handbag', 'shopping_bag', 'cigar_box']\n",
      "Band_Aid :  [7.0, 2.0, 2.0, 1.0, 1.0] \n",
      "\n",
      "Tabasco_sauce :  ['backpack', 'goggles', 'handbag', 'halter_top', 'suspenders']\n",
      "Tabasco_sauce :  [5.0, 2.0, 1.0, 1.0, 1.0] \n",
      "\n"
     ]
    }
   ],
   "source": [
    "filter_confusion = confusion_mat[cluster_dict[c_no]]\n",
    "filter_confusion_norm = confusion_mat_norm[cluster_dict[c_no]]\n",
    "top_confusion(ov_idx2category, filter_confusion, filter_confusion_norm, dim=1, topx=40, topy=5)"
   ]
  },
  {
   "cell_type": "code",
   "execution_count": null,
   "metadata": {},
   "outputs": [],
   "source": []
  },
  {
   "cell_type": "code",
   "execution_count": null,
   "metadata": {},
   "outputs": [],
   "source": []
  },
  {
   "cell_type": "code",
   "execution_count": null,
   "metadata": {},
   "outputs": [],
   "source": []
  },
  {
   "cell_type": "code",
   "execution_count": null,
   "metadata": {},
   "outputs": [],
   "source": []
  },
  {
   "cell_type": "code",
   "execution_count": 13,
   "metadata": {},
   "outputs": [
    {
     "name": "stdout",
     "output_type": "stream",
     "text": [
      "Cluster 0: \n",
      "['Band_Aid', 'bandage']\n",
      "Cluster 1: \n",
      "['Bible', 'book', 'booklet', 'diary', 'hardback_book', 'notebook', 'notepad', 'paperback_book']\n",
      "Cluster 2: \n",
      "['CD_player', 'phonograph_record', 'record_player']\n",
      "Cluster 3: \n",
      "['Ferris_wheel', 'steering_wheel', 'wagon_wheel', 'wheel']\n",
      "Cluster 4: \n",
      "['Rollerblade', 'ice_skate', 'roller_skate', 'skateboard', 'ski', 'ski_boot', 'ski_pole', 'snowboard', 'water_ski']\n",
      "Cluster 5: \n",
      "['Tabasco_sauce', 'hot_sauce']\n",
      "Cluster 6: \n",
      "['aerosol_can', 'barrel', 'beer_bottle', 'beer_can', 'bottle', 'can', 'canister', 'chinaware', 'cooking_utensil', 'cream_pitcher', 'cylinder', 'flowerpot', 'frying_pan', 'jar', 'keg', 'pan_(for_cooking)', 'pan_(metal_container)', 'pitcher_(vessel_for_liquid)', 'pot', 'pottery', 'saucepan', 'thermos_bottle', 'urn', 'vase', 'water_bottle', 'water_jug', 'watering_can', 'wine_bottle']\n",
      "Cluster 7: \n",
      "['airplane', 'fighter_jet', 'helicopter', 'jet_plane', 'seaplane']\n",
      "Cluster 8: \n",
      "['alarm_clock', 'clock', 'clock_tower', 'pocket_watch', 'timer', 'wall_clock', 'watch']\n",
      "Cluster 9: \n",
      "['alcohol', 'liquor', 'tequila', 'vodka']\n",
      "Cluster 10: \n",
      "['alligator', 'frog', 'lizard', 'snake']\n",
      "Cluster 11: \n",
      "['anklet', 'armband', 'bracelet', 'headband', 'sweatband', 'wristband']\n",
      "Cluster 12: \n",
      "['antenna', 'bowl', 'cigarette', 'dish', 'dish_antenna', 'lettuce', 'paper_plate', 'pipe', 'pipe_bowl', 'plate', 'platter', 'salad', 'salad_plate', 'soup', 'soup_bowl', 'stew', 'tobacco_pipe', 'tray']\n",
      "Cluster 13: \n",
      "['apricot', 'peach']\n",
      "Cluster 14: \n",
      "['aquarium', 'dolphin', 'fish', 'fish_(food)', 'goldfish', 'puffer_(fish)', 'salmon_(fish)', 'salmon_(food)', 'shark']\n",
      "Cluster 15: \n",
      "['armchair', 'bed', 'bedspread', 'blanket', 'bunk_bed', 'chair', 'deck_chair', 'folding_chair', 'footstool', 'futon', 'headboard', 'highchair', 'ladder', 'loveseat', 'mattress', 'music_stool', 'ottoman', 'quilt', 'recliner', 'rocking_chair', 'sofa', 'sofa_bed', 'step_stool', 'stepladder', 'stool', 'wheelchair']\n",
      "Cluster 16: \n",
      "['armoire', 'cabinet', 'cupboard', 'drawer', 'dresser', 'underdrawers', 'wardrobe']\n",
      "Cluster 17: \n",
      "['army_tank', 'tank_(storage_vessel)']\n",
      "Cluster 18: \n",
      "['baboon', 'gorilla', 'monkey']\n",
      "Cluster 19: \n",
      "['baby_buggy', 'foal', 'horse', 'horse_buggy', 'horse_carriage', 'pony']\n",
      "Cluster 20: \n",
      "['bagel', 'doughnut', 'pretzel']\n",
      "Cluster 21: \n",
      "['ball', 'football_(American)', 'ping-pong_ball', 'racket', 'soccer_ball', 'tennis_ball', 'tennis_racket']\n",
      "Cluster 22: \n",
      "['ballet_skirt', 'skirt']\n",
      "Cluster 23: \n",
      "['balloon', 'hot-air_balloon']\n",
      "Cluster 24: \n",
      "['bandanna', 'bath_mat', 'bath_towel', 'coat_hanger', 'coatrack', 'dishrag', 'dishtowel', 'doormat', 'hand_towel', 'handkerchief', 'headscarf', 'napkin', 'neckerchief', 'paper_towel', 'scarf', 'shawl', 'tissue_paper', 'toilet', 'toilet_tissue', 'towel', 'towel_rack', 'turban', 'urinal']\n",
      "Cluster 25: \n",
      "['banner', 'pennant']\n",
      "Cluster 26: \n",
      "['barbell', 'dumbbell']\n",
      "Cluster 27: \n",
      "['barge', 'boat', 'canoe', 'cargo_ship', 'cruise_ship', 'dinghy', 'ferry', 'gondola_(boat)', 'houseboat', 'kayak', 'passenger_ship', 'river_boat', 'sail', 'yacht']\n",
      "Cluster 28: \n",
      "['baseball', 'baseball_bat', 'baseball_glove', 'boxing_glove', 'glove', 'softball']\n",
      "Cluster 29: \n",
      "['baseball_cap', 'beanie', 'cap_(headwear)', 'cowboy_hat', 'dress_hat', 'fedora', 'hat', 'sombrero', 'sunhat']\n",
      "Cluster 30: \n",
      "['basket', 'clothes_hamper', 'hamper']\n",
      "Cluster 31: \n",
      "['basketball', 'basketball_backboard', 'volleyball']\n",
      "Cluster 32: \n",
      "['bathrobe', 'robe']\n",
      "Cluster 33: \n",
      "['battery', 'car_battery']\n",
      "Cluster 34: \n",
      "['bear', 'grizzly', 'polar_bear', 'teddy_bear']\n",
      "Cluster 35: \n",
      "['beef_(food)', 'steak_(food)']\n",
      "Cluster 36: \n",
      "['beetle', 'cockroach', 'ladybug']\n",
      "Cluster 37: \n",
      "['bell_pepper', 'pepper']\n",
      "Cluster 38: \n",
      "['belt', 'belt_buckle']\n",
      "Cluster 39: \n",
      "['bench', 'pew_(church_bench)']\n",
      "Cluster 40: \n",
      "['bicycle', 'dirt_bike', 'motor_scooter', 'motorcycle', 'tricycle', 'water_scooter']\n",
      "Cluster 41: \n",
      "['bird', 'crow', 'dove', 'duck', 'duckling', 'eagle', 'falcon', 'goose', 'gull', 'heron', 'hummingbird', 'mallard', 'owl', 'parakeet', 'parrot', 'pelican', 'penguin', 'pigeon', 'puffin', 'seabird', 'vulture']\n",
      "Cluster 42: \n",
      "['birdbath', 'birdfeeder', 'birdhouse']\n",
      "Cluster 43: \n",
      "['birthday_cake', 'bread', 'cake', 'chocolate_cake', 'chocolate_mousse', 'cooker', 'cupcake', 'fireplace', 'hamburger', 'microwave_oven', 'muffin', 'oven', 'pastry', 'pie', 'pita_(bread)', 'pizza', 'quiche', 'sandwich', 'stove', 'toast_(food)', 'toaster', 'toaster_oven', 'wedding_cake']\n",
      "Cluster 44: \n",
      "['blackberry', 'blueberry', 'raspberry', 'strawberry']\n",
      "Cluster 45: \n",
      "['blazer', 'coat', 'jacket', 'parka', 'raincoat', 'ski_parka', 'trench_coat']\n",
      "Cluster 46: \n",
      "['blender', 'chocolate_milk', 'cocoa_(beverage)', 'food_processor', 'milk', 'milk_can', 'milkshake', 'smoothie', 'soya_milk', 'yogurt']\n",
      "Cluster 47: \n",
      "['blouse', 'polo_shirt', 'shirt']\n",
      "Cluster 48: \n",
      "['boiled_egg', 'egg', 'egg_yolk']\n",
      "Cluster 49: \n",
      "['boom_microphone', 'microphone']\n",
      "Cluster 50: \n",
      "['boot', 'flip-flop_(sandal)', 'flipper_(footwear)', 'sandal_(type_of_shoe)', 'shoe', 'slipper_(footwear)']\n",
      "Cluster 51: \n",
      "['bottle_opener', 'can_opener']\n",
      "Cluster 52: \n",
      "['bouquet', 'flower_arrangement']\n",
      "Cluster 53: \n",
      "['bow-tie', 'necktie']\n",
      "Cluster 54: \n",
      "['box', 'carton', 'crate', 'toolbox']\n",
      "Cluster 55: \n",
      "['bridal_gown', 'costume', 'coverall', 'dress', 'dress_suit', 'jumpsuit', 'overalls_(clothing)', 'suit_(clothing)']\n",
      "Cluster 56: \n",
      "['briefcase', 'clutch_bag', 'duffel_bag', 'grocery_bag', 'handbag', 'plastic_bag', 'pouch', 'satchel', 'shopping_bag', 'shoulder_bag', 'suitcase', 'tote_bag']\n",
      "Cluster 57: \n",
      "['broccoli', 'cauliflower']\n",
      "Cluster 58: \n",
      "['bucket', 'wine_bucket']\n",
      "Cluster 59: \n",
      "['bulldog', 'cat', 'dog', 'kitten', 'pet', 'pug-dog', 'puppy', 'shepherd_dog']\n",
      "Cluster 60: \n",
      "['bulletin_board', 'corkboard']\n",
      "Cluster 61: \n",
      "['bulletproof_vest', 'vest']\n",
      "Cluster 62: \n",
      "['buoy', 'life_buoy']\n",
      "Cluster 63: \n",
      "['burrito', 'quesadilla', 'taco', 'tortilla']\n",
      "Cluster 64: \n",
      "['bus_(vehicle)', 'camper_(vehicle)', 'school_bus']\n",
      "Cluster 65: \n",
      "['business_card', 'card', 'identity_card', 'postcard']\n",
      "Cluster 66: \n",
      "['calf', 'cow', 'goat', 'horned_cow', 'lamb_(animal)', 'ram_(animal)', 'sheep']\n",
      "Cluster 67: \n",
      "['camcorder', 'camera', 'camera_lens', 'telephoto_lens', 'television_camera', 'television_set', 'webcam']\n",
      "Cluster 68: \n",
      "['candle', 'candle_holder']\n",
      "Cluster 69: \n",
      "['candy_bar', 'chocolate_bar']\n",
      "Cluster 70: \n",
      "['cantaloup', 'melon', 'watermelon']\n",
      "Cluster 71: \n",
      "['cape', 'cloak']\n",
      "Cluster 72: \n",
      "['car_(automobile)', 'convertible_(automobile)', 'generator', 'motor', 'motor_vehicle', 'race_car']\n",
      "Cluster 73: \n",
      "['cardigan', 'sweater', 'sweatshirt']\n",
      "Cluster 74: \n",
      "['cart', 'golfcart', 'handcart', 'shopping_cart', 'wagon']\n",
      "Cluster 75: \n",
      "['cassette', 'videotape']\n",
      "Cluster 76: \n",
      "['cellular_telephone', 'telephone', 'telephone_booth']\n",
      "Cluster 77: \n",
      "['checkerboard', 'chessboard', 'gameboard']\n",
      "Cluster 78: \n",
      "['chicken_(animal)', 'cock']\n",
      "Cluster 79: \n",
      "['chime', 'wind_chime']\n",
      "Cluster 80: \n",
      "['choker', 'earring', 'jewelry', 'necklace']\n",
      "Cluster 81: \n",
      "['clarinet', 'drum_(musical_instrument)', 'guitar', 'musical_instrument', 'saxophone', 'triangle_(musical_instrument)', 'violin']\n",
      "Cluster 82: \n",
      "['coffee_maker', 'coffeepot', 'cup', 'kettle', 'mug', 'teacup', 'teakettle', 'teapot', 'trophy_cup']\n",
      "Cluster 83: \n",
      "['coffee_table', 'desk', 'dining_table', 'kitchen_table', 'table', 'tablecloth']\n",
      "Cluster 84: \n",
      "['coin', 'penny_(coin)']\n",
      "Cluster 85: \n",
      "['colander', 'strainer']\n",
      "Cluster 86: \n",
      "['combination_lock', 'padlock']\n",
      "Cluster 87: \n",
      "['computer_keyboard', 'laptop_computer']\n",
      "Cluster 88: \n",
      "['control', 'remote_control']\n",
      "Cluster 89: \n",
      "['cornbread', 'cornmeal']\n",
      "Cluster 90: \n",
      "['crab_(animal)', 'octopus_(animal)', 'octopus_(food)', 'squid_(food)']\n",
      "Cluster 91: \n",
      "['crayon', 'pen', 'pencil', 'pencil_box', 'pencil_sharpener', 'sharpener', 'stylus']\n",
      "Cluster 92: \n",
      "['crib', 'manger']\n",
      "Cluster 93: \n",
      "['crown', 'tiara']\n",
      "Cluster 94: \n",
      "['crutch', 'walking_cane', 'walking_stick']\n",
      "Cluster 95: \n",
      "['cucumber', 'pickle', 'zucchini']\n",
      "Cluster 96: \n",
      "['curtain', 'shower_curtain']\n",
      "Cluster 97: \n",
      "['cushion', 'pillow']\n",
      "Cluster 98: \n",
      "['dagger', 'knife', 'pocketknife', 'steak_knife', 'sword']\n",
      "Cluster 99: \n",
      "['date_(fruit)', 'fig_(fruit)', 'kiwi_fruit']\n",
      "Cluster 100: \n",
      "['deadbolt', 'doorknob', 'knob', 'knocker_(on_a_door)']\n",
      "Cluster 101: \n",
      "['deer', 'elk', 'gazelle']\n",
      "Cluster 102: \n",
      "['detergent', 'dishwasher', 'dishwasher_detergent']\n",
      "Cluster 103: \n",
      "['doll', 'figurine', 'puppet', 'rag_doll', 'sculpture', 'statue_(sculpture)', 'toy']\n",
      "Cluster 104: \n",
      "['dollar', 'money']\n",
      "Cluster 105: \n",
      "['duct_tape', 'tape_(sticky_cloth_or_paper)']\n",
      "Cluster 106: \n",
      "['dumpster', 'garbage', 'garbage_truck', 'pickup_truck', 'tow_truck', 'trailer_truck', 'trash_can', 'truck']\n",
      "Cluster 107: \n",
      "['earphone', 'earplug', 'headset']\n",
      "Cluster 108: \n",
      "['elephant', 'mammoth']\n",
      "Cluster 109: \n",
      "['faucet', 'kitchen_sink', 'sink', 'washbasin', 'water_faucet']\n",
      "Cluster 110: \n",
      "['fire_alarm', 'fire_extinguisher']\n",
      "Cluster 111: \n",
      "['fire_hose', 'garden_hose', 'hose']\n",
      "Cluster 112: \n",
      "['flag', 'flagpole', 'pirate_flag']\n",
      "Cluster 113: \n",
      "['football_helmet', 'helmet']\n",
      "Cluster 114: \n",
      "['freight_car', 'passenger_car_(part_of_a_train)', 'railcar_(part_of_a_train)', 'train_(railroad_vehicle)']\n",
      "Cluster 115: \n",
      "['fruit_juice', 'mandarin_orange', 'orange_(fruit)', 'orange_juice']\n",
      "Cluster 116: \n",
      "['garlic', 'green_onion', 'onion']\n",
      "Cluster 117: \n",
      "['goggles', 'spectacles', 'sunglasses']\n",
      "Cluster 118: \n",
      "['gourd', 'pumpkin']\n",
      "Cluster 119: \n",
      "['gun', 'machine_gun', 'pistol', 'rifle', 'water_gun']\n",
      "Cluster 120: \n",
      "['hairbrush', 'toothbrush', 'toothpaste']\n",
      "Cluster 121: \n",
      "['hamster', 'rat', 'rodent', 'squirrel']\n",
      "Cluster 122: \n",
      "['heater', 'radiator', 'water_cooler', 'water_heater']\n",
      "Cluster 123: \n",
      "['hippopotamus', 'rhinoceros']\n",
      "Cluster 124: \n",
      "['ice_maker', 'ice_pack']\n",
      "Cluster 125: \n",
      "['icecream', 'popsicle']\n",
      "Cluster 126: \n",
      "['kilt', 'tartan']\n",
      "Cluster 127: \n",
      "['ladle', 'soupspoon', 'spoon', 'wooden_spoon']\n",
      "Cluster 128: \n",
      "['lamp', 'lamppost', 'lampshade', 'lantern', 'lightbulb', 'oil_lamp', 'streetlight', 'table_lamp', 'traffic_light']\n",
      "Cluster 129: \n",
      "['legging_(clothing)', 'tights_(clothing)']\n",
      "Cluster 130: \n",
      "['lemon', 'lemonade', 'lime']\n",
      "Cluster 131: \n",
      "['lion', 'tiger', 'zebra']\n",
      "Cluster 132: \n",
      "['magazine', 'newspaper']\n",
      "Cluster 133: \n",
      "['mailbox_(at_home)', 'postbox_(public)']\n",
      "Cluster 134: \n",
      "['map', 'road_map']\n",
      "Cluster 135: \n",
      "['mashed_potato', 'potato', 'sweet_potato']\n",
      "Cluster 136: \n",
      "['mirror', 'rearview_mirror']\n",
      "Cluster 137: \n",
      "['monitor_(computer_equipment) computer_monitor', 'router_(computer_equipment)']\n",
      "Cluster 138: \n",
      "['oar', 'paddle', 'spatula']\n",
      "Cluster 139: \n",
      "['parasol', 'umbrella']\n",
      "Cluster 140: \n",
      "['pinwheel', 'windmill']\n",
      "Cluster 141: \n",
      "['pliers', 'scissors', 'shears']\n",
      "Cluster 142: \n",
      "['plow_(farm_equipment)', 'tractor_(farm_equipment)']\n",
      "Cluster 143: \n",
      "['pole', 'telephone_pole']\n",
      "Cluster 144: \n",
      "['power_shovel', 'shovel']\n",
      "Cluster 145: \n",
      "['printer', 'typewriter']\n",
      "Cluster 146: \n",
      "['radish', 'turnip']\n",
      "Cluster 147: \n",
      "['ring', 'wedding_ring']\n",
      "Cluster 148: \n",
      "['salami', 'sausage']\n",
      "Cluster 149: \n",
      "['saltshaker', 'shaker']\n",
      "Cluster 150: \n",
      "['shaving_cream', 'whipped_cream']\n",
      "Cluster 151: \n",
      "['signboard', 'street_sign']\n",
      "Cluster 152: \n",
      "['sled', 'snowmobile']\n",
      "Cluster 153: \n",
      "['speaker_(stero_equipment)', 'stereo_(sound_system)']\n",
      "Cluster 154: \n",
      "['sweat_pants', 'trousers']\n",
      "Cluster 155: \n",
      "['thermometer', 'thermostat']\n",
      "Cluster 156: \n",
      "['waffle', 'waffle_iron']\n"
     ]
    }
   ],
   "source": [
    "for k, v in cluster_dict.items():\n",
    "    print(f\"Cluster {k}: \")\n",
    "    print([ov_idx2category[i] for i in v])"
   ]
  },
  {
   "cell_type": "code",
   "execution_count": 3,
   "metadata": {},
   "outputs": [
    {
     "name": "stdout",
     "output_type": "stream",
     "text": [
      "obj_list:  6\n",
      "obj_list:  ['car_(automobile)', 'convertible_(automobile)', 'generator', 'motor', 'motor_vehicle', 'race_car']\n"
     ]
    }
   ],
   "source": [
    "obj_idx = ov_category2idx[\"motor_vehicle\"]\n",
    "val = dbscan_labels[obj_idx]\n",
    "idx = np.argwhere(dbscan_labels == val)\n",
    "\n",
    "obj_list = []\n",
    "for i in idx:\n",
    "    obj_list.append(ov_idx2category[i.item()])\n",
    "\n",
    "print(\"obj_list: \", len(obj_list))\n",
    "print(\"obj_list: \", obj_list)\n"
   ]
  },
  {
   "cell_type": "code",
   "execution_count": 8,
   "metadata": {},
   "outputs": [],
   "source": [
    "top_xy_dict = np.load(\"src/eval_data/top_xy_dict.npy\", allow_pickle=True).item()\n",
    "# def get_cat_count(top_xy_dict):\n",
    "#     cat = top_xy_dict[\"cats\"]\n",
    "#     count = top_xy_dict[\"count\"]\n"
   ]
  },
  {
   "cell_type": "code",
   "execution_count": 5,
   "metadata": {},
   "outputs": [],
   "source": [
    "# top_xy_dict"
   ]
  },
  {
   "cell_type": "code",
   "execution_count": 9,
   "metadata": {},
   "outputs": [],
   "source": [
    "def get_cluster(idx, dbscan_labels):\n",
    "    val = dbscan_labels[idx]\n",
    "    idx = np.argwhere(dbscan_labels == val)\n",
    "\n",
    "    obj_list = []\n",
    "    for i in idx:\n",
    "        obj_list.append(ov_idx2category[i.item()])\n",
    "\n",
    "    print(\"obj_list: \", len(obj_list))\n",
    "    print(\"obj_list: \", obj_list)"
   ]
  },
  {
   "cell_type": "code",
   "execution_count": 7,
   "metadata": {},
   "outputs": [],
   "source": [
    "top_40 = [1101,  142,  114,  169,  898,  426, 1025,  312,  438,  950,  758,  554,\n",
    "         826, 1083,  118, 1037,  122,  612,  386,  902,  189,  568,  270,  903,\n",
    "         464,  618,  278,  372,  724,  619,  658,  414,  667,  210,  229,  410,\n",
    "         678,  483,  106, 1019]"
   ]
  },
  {
   "cell_type": "code",
   "execution_count": 10,
   "metadata": {},
   "outputs": [
    {
     "name": "stdout",
     "output_type": "stream",
     "text": [
      "teakettle\n"
     ]
    }
   ],
   "source": [
    "cat_idx = 1019\n",
    "print(ov_idx2category[cat_idx])"
   ]
  },
  {
   "cell_type": "code",
   "execution_count": 11,
   "metadata": {},
   "outputs": [
    {
     "name": "stdout",
     "output_type": "stream",
     "text": [
      "obj_list:  9\n",
      "obj_list:  ['coffee_maker', 'coffeepot', 'cup', 'kettle', 'mug', 'teacup', 'teakettle', 'teapot', 'trophy_cup']\n"
     ]
    }
   ],
   "source": [
    "get_cluster(cat_idx, dbscan_labels)"
   ]
  },
  {
   "cell_type": "code",
   "execution_count": 12,
   "metadata": {},
   "outputs": [
    {
     "data": {
      "text/plain": [
       "{'cat_name': ['teapot',\n",
       "  'kettle',\n",
       "  'plume',\n",
       "  'pocketknife',\n",
       "  'plow_(farm_equipment)'],\n",
       " 'count': [59.0, 2.0, 0.0, 0.0, 0.0],\n",
       " 'cats': [1020, 562, 775, 777, 774]}"
      ]
     },
     "execution_count": 12,
     "metadata": {},
     "output_type": "execute_result"
    }
   ],
   "source": [
    "top_xy_dict[cat_idx]"
   ]
  },
  {
   "cell_type": "code",
   "execution_count": null,
   "metadata": {},
   "outputs": [],
   "source": [
    "[464, 409, 861]\n",
    "[372, 510]\n",
    "[106, 548]\n",
    "[1019, 1020, 562]\n",
    "\n",
    "1019, 106, 372, 464"
   ]
  },
  {
   "cell_type": "code",
   "execution_count": null,
   "metadata": {},
   "outputs": [],
   "source": [
    "[464, 409, 861]\n",
    "[372, 510]\n",
    "[106, 548]\n",
    "[1019, 1020, 562]\n",
    "\n",
    "arr = [464, 409, 861, 372, 510, 106, 548, 1019, 1020, 562]"
   ]
  },
  {
   "cell_type": "code",
   "execution_count": null,
   "metadata": {},
   "outputs": [],
   "source": [
    "# print(\"dbscan: \", db_scan.labels_)\n",
    "print(\"eps: \", eps)\n",
    "print(\"dbscan: \", np.unique(db_scan.labels_))"
   ]
  }
 ],
 "metadata": {
  "kernelspec": {
   "display_name": "notebook",
   "language": "python",
   "name": "python3"
  },
  "language_info": {
   "codemirror_mode": {
    "name": "ipython",
    "version": 3
   },
   "file_extension": ".py",
   "mimetype": "text/x-python",
   "name": "python",
   "nbconvert_exporter": "python",
   "pygments_lexer": "ipython3",
   "version": "3.10.13"
  }
 },
 "nbformat": 4,
 "nbformat_minor": 2
}
