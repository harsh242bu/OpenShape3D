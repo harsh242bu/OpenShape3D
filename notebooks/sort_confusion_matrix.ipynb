{
 "cells": [
  {
   "cell_type": "code",
   "execution_count": 1,
   "id": "dcae1b7f-cc10-44a5-8256-c2f746506725",
   "metadata": {},
   "outputs": [],
   "source": [
    "import torch\n",
    "import numpy as np\n",
    "import matplotlib.pyplot as plt\n",
    "import plotly.express as px\n",
    "import pandas as pd\n",
    "import spacy\n",
    "import re"
   ]
  },
  {
   "cell_type": "code",
   "execution_count": 2,
   "id": "5aaa464e-8650-407a-9e78-461eb31c036c",
   "metadata": {},
   "outputs": [
    {
     "data": {
      "text/plain": [
       "False"
      ]
     },
     "execution_count": 2,
     "metadata": {},
     "output_type": "execute_result"
    }
   ],
   "source": [
    "torch.cuda.is_available()"
   ]
  },
  {
   "cell_type": "code",
   "execution_count": 4,
   "id": "347528b9-864d-480e-a9a3-1dee92ba9ed7",
   "metadata": {},
   "outputs": [],
   "source": [
    "objaverse_dict = torch.load(\"../src/eval_data/objaverse_dict.pt\")\n",
    "ov_xyz = torch.load(\"../src/eval_data/ov_xyz.pt\")\n",
    "ov_rgb = torch.load(\"../src/eval_data/ov_rgb.pt\")\n",
    "\n",
    "ov_res_norm = torch.load(\"../src/eval_data/ov_confusion_norm.pt\")\n",
    "\n",
    "ov_confusion = torch.load(\"../src/eval_data/ov_confusion.pt\")"
   ]
  },
  {
   "cell_type": "code",
   "execution_count": 5,
   "id": "7c027250-ed54-4610-adaa-8a43a3f18d56",
   "metadata": {},
   "outputs": [
    {
     "name": "stdout",
     "output_type": "stream",
     "text": [
      "['orange fruit ', 'egg yolk', 'ping pong ball']\n"
     ]
    }
   ],
   "source": [
    "arr = [\"orange_(fruit)\", \"egg_yolk\", \"ping-pong_ball\"]\n",
    "\n",
    "# Define a function to modify each string\n",
    "def modify_string(s):\n",
    "    # Remove special characters and insert spaces\n",
    "    s = re.sub(r'[^a-zA-Z0-9]+', ' ', s)\n",
    "    return s\n",
    "\n",
    "# Modify each string in the list\n",
    "modified_arr = [modify_string(s) for s in arr]\n",
    "\n",
    "# Print the modified list\n",
    "print(modified_arr)"
   ]
  },
  {
   "cell_type": "code",
   "execution_count": null,
   "id": "7d76b3da-026c-4374-956a-9a48ec3afd2c",
   "metadata": {},
   "outputs": [
    {
     "name": "stderr",
     "output_type": "stream",
     "text": [
      "/scratch/ipykernel_920561/3752770469.py:18: UserWarning: [W008] Evaluating Doc.similarity based on empty vectors.\n",
      "  sim_mat[i][j] = doc1.similarity(doc2)\n"
     ]
    }
   ],
   "source": [
    "# ['bottle', 'wine_bottle', 'beer_bottle', 'water_bottle', 'Tabasco_sauce']\n",
    "disable_components = [\"tagger\", \"parser\", \"attribute_ruler\", \"lemmatizer\", \"ner\"]\n",
    "nlp_lg = spacy.load(\"en_core_web_lg\", disable=disable_components)\n",
    "\n",
    "# objaverse_dict = torch.load(\"eval_data/objaverse_dict.pt\")\n",
    "ov_category2idx = objaverse_dict[\"category2idx\"]\n",
    "\n",
    "cats = list(ov_category2idx.keys())\n",
    "sim_mat = np.zeros((len(cats), len(cats)))\n",
    "\n",
    "doc_list = []\n",
    "for i, cat in enumerate(cats):\n",
    "    doc = nlp_lg(modify_string(cat))\n",
    "    doc_list.append(doc)\n",
    "\n",
    "for i, doc1 in enumerate(doc_list):\n",
    "    for j, doc2 in enumerate(doc_list):\n",
    "        sim_mat[i][j] = doc1.similarity(doc2)"
   ]
  },
  {
   "cell_type": "code",
   "execution_count": 16,
   "metadata": {},
   "outputs": [],
   "source": [
    "vodka_doc = nlp_lg(\"vodka bottle\")"
   ]
  },
  {
   "cell_type": "code",
   "execution_count": 17,
   "metadata": {},
   "outputs": [
    {
     "name": "stdout",
     "output_type": "stream",
     "text": [
      "0.8775750912088506\n",
      "0.911566156245781\n",
      "0.8583181620252078\n",
      "0.9027107534849181\n",
      "0.69818236796488\n",
      "0.5011318153621519\n"
     ]
    }
   ],
   "source": [
    "vod_arr = [\"vodka\", 'bottle', 'wine bottle', 'beer bottle', 'water bottle', 'Tabasco sauce']\n",
    "doc_arr = []\n",
    "for i, cat in enumerate(vod_arr):\n",
    "    # doc = nlp_lg(modify_string(cat))\n",
    "    doc_arr.append(nlp_lg(modify_string(cat)))\n",
    "\n",
    "for d in doc_arr:\n",
    "    print(vodka_doc.similarity(d))"
   ]
  },
  {
   "cell_type": "code",
   "execution_count": 9,
   "id": "db38fab4-d8ff-4704-a728-1f92b125d0e5",
   "metadata": {},
   "outputs": [],
   "source": [
    "# def top_confusion(topx=40, topy=5):\n",
    "#     # modelnet_dict = torch.load(\"src/eval_data/modelnet_dict.pt\")\n",
    "#     # idx2category = modelnet_dict[\"idx2category\"]\n",
    "#     objaverse_dict = torch.load(\"eval_data/objaverse_dict.pt\")\n",
    "#     ov_idx2category = objaverse_dict[\"idx2category\"]\n",
    "\n",
    "#     # mn_res_norm = torch.load(\"src/eval_data/mn_confusion_norm.pt\")\n",
    "#     ov_res_norm = torch.load(\"eval_data/ov_confusion_norm.pt\")\n",
    "\n",
    "\n",
    "#     ov_res_norm = ov_res_norm.fill_diagonal_(0)\n",
    "#     row_sum = torch.sum(ov_res_norm, dim=1)\n",
    "#     # print(\"row_sum: \", row_sum.shape) # 1156 categories\n",
    "\n",
    "#     sorted_idx = torch.argsort(row_sum, descending=True)\n",
    "#     # print(\"row_sum: \", row_sum[sorted_idx[:200]] )\n",
    "#     # print(\"sorted: \", sorted_idx)\n",
    "#     sort_cat = [ov_idx2category[i.item()] for i in sorted_idx[:topx]]\n",
    "\n",
    "\n",
    "#     for i in sorted_idx[:topx]:\n",
    "#         topy_pred = torch.argsort(ov_res_norm[i], descending=True)[:topy]\n",
    "#         topy_cat = [ov_idx2category[i.item()] for i in topy_pred]\n",
    "#         print(ov_idx2category[i.item()], \": \", topy_cat)\n",
    "#         # print(ov_idx2category[i.item()], \": \", ov_res_norm[i][topy_pred])\n"
   ]
  },
  {
   "cell_type": "code",
   "execution_count": 6,
   "id": "002381fa-0a83-40bd-b96a-bfe86423f8e0",
   "metadata": {},
   "outputs": [],
   "source": [
    "def top_confusion(objaverse_dict, ov_confusion, ov_res_norm, dim=1, topx=40, topy=5):\n",
    "    # modelnet_dict = torch.load(\"src/eval_data/modelnet_dict.pt\")\n",
    "    # idx2category = modelnet_dict[\"idx2category\"]\n",
    "    # objaverse_dict = torch.load(\"eval_data/objaverse_dict.pt\")\n",
    "    ov_idx2category = objaverse_dict[\"idx2category\"]\n",
    "\n",
    "    # mn_res_norm = torch.load(\"src/eval_data/mn_confusion_norm.pt\")\n",
    "    # ov_res_norm = torch.load(\"eval_data/ov_confusion_norm.pt\")\n",
    "\n",
    "    ov_res_norm = ov_res_norm.fill_diagonal_(0)\n",
    "    row_sum = torch.sum(ov_res_norm, dim=dim)\n",
    "    # print(\"row_sum: \", row_sum.shape) # 1156 categories\n",
    "\n",
    "    sorted_idx = torch.argsort(row_sum, descending=True)\n",
    "    # print(\"row_sum: \", row_sum[sorted_idx[:200]] )\n",
    "    # print(\"sorted: \", sorted_idx)\n",
    "    sort_cat = [ov_idx2category[i.item()] for i in sorted_idx[:topx]]\n",
    "\n",
    "    print(\"sorted: \", sorted_idx[:topx], '\\n')\n",
    "    top_xy_dict = {}\n",
    "\n",
    "    for i in sorted_idx[:topx]:\n",
    "        topy_cat=[]\n",
    "        sim_list = []\n",
    "        confusion = []\n",
    "        top_xy_dict[i.item()] = {\"cat_name\":[], \"count\": [], \"cats\": []}\n",
    "        topy_pred = torch.argsort(ov_res_norm[i], descending=True)[:topy]\n",
    "        for cat_i in topy_pred:\n",
    "            topy_cat.append(ov_idx2category[cat_i.item()])\n",
    "            sim_list.append(sim_mat[i][cat_i])\n",
    "            confusion.append(ov_confusion[i][cat_i].item())\n",
    "        \n",
    "        top_xy_dict[i.item()][\"cats\"] = topy_pred.tolist()\n",
    "        top_xy_dict[i.item()][\"cat_name\"] = topy_cat\n",
    "        top_xy_dict[i.item()][\"count\"] = confusion\n",
    "\n",
    "        # topy_cat = [ov_idx2category[i.item()] for i in topy_pred]\n",
    "        print(ov_idx2category[i.item()], \": \", topy_cat)\n",
    "        # print(ov_idx2category[i.item()], \": \", sim_list)\n",
    "        print(ov_idx2category[i.item()], \": \", confusion, '\\n')\n",
    "        # print(ov_idx2category[i.item()], \": \", ov_res_norm[i][topy_pred])\n",
    "    \n",
    "    # print(\"top_xy_dict: \", top_xy_dict)\n",
    "    # np.save(\"src/eval_data/top_xy_dict.npy\", top_xy_dict)\n"
   ]
  },
  {
   "cell_type": "code",
   "execution_count": 19,
   "id": "a76651e0-8a43-4e48-9b28-23bb1470aad9",
   "metadata": {},
   "outputs": [
    {
     "data": {
      "text/plain": [
       "142"
      ]
     },
     "execution_count": 19,
     "metadata": {},
     "output_type": "execute_result"
    }
   ],
   "source": [
    "ov_category2idx = objaverse_dict[\"category2idx\"] \n",
    "ov_category2idx[\"bridal_gown\"]"
   ]
  },
  {
   "cell_type": "code",
   "execution_count": 8,
   "id": "eca0c192-1c64-4d63-a4da-8754cc559926",
   "metadata": {},
   "outputs": [
    {
     "name": "stdout",
     "output_type": "stream",
     "text": [
      "sorted:  tensor([1101,  142,  114,  169,  898,  426, 1025,  312,  438,  950,  758,  554,\n",
      "         826, 1083,  118, 1037,  122,  612,  386,  902,  189,  568,  270,  903,\n",
      "         464,  618,  278,  372,  724,  619,  658,  414,  667,  210,  229,  410,\n",
      "         678,  483,  106, 1019]) \n",
      "\n",
      "vodka :  ['bottle', 'wine_bottle', 'beer_bottle', 'water_bottle', 'Tabasco_sauce']\n",
      "vodka :  [17.0, 14.0, 6.0, 4.0, 3.0] \n",
      "\n",
      "bridal_gown :  ['dress', 'robe', 'skirt', 'dress_hat', 'swimsuit']\n",
      "bridal_gown :  [17.0, 3.0, 2.0, 2.0, 2.0] \n",
      "\n",
      "boiled_egg :  ['egg', 'egg_yolk', 'person', 'orange_(fruit)', 'blimp']\n",
      "boiled_egg :  [17.0, 2.0, 1.0, 1.0, 1.0] \n",
      "\n",
      "cabinet :  ['armoire', 'bookcase', 'dresser', 'fireplace', 'television_set']\n",
      "cabinet :  [17.0, 9.0, 7.0, 4.0, 4.0] \n",
      "\n",
      "sherbert :  ['icecream', 'popsicle', 'plow_(farm_equipment)', 'pocket_watch', 'pliers']\n",
      "sherbert :  [17.0, 2.0, 0.0, 0.0, 0.0] \n",
      "\n",
      "foal :  ['horse', 'pony', 'zebra', 'gazelle', 'dog']\n",
      "foal :  [17.0, 2.0, 1.0, 1.0, 1.0] \n",
      "\n",
      "telephoto_lens :  ['camera_lens', 'camera', 'wheel', 'cylinder', 'paperweight']\n",
      "telephoto_lens :  [17.0, 12.0, 3.0, 2.0, 1.0] \n",
      "\n",
      "cucumber :  ['pickle', 'zucchini', 'sugarcane_(plant)', 'paddle', 'sleeping_bag']\n",
      "cucumber :  [17.0, 1.0, 1.0, 1.0, 1.0] \n",
      "\n",
      "fruit_juice :  ['Tabasco_sauce', 'soya_milk', 'freshener', 'gargle', 'orange_juice']\n",
      "fruit_juice :  [18.0, 6.0, 2.0, 1.0, 1.0] \n",
      "\n",
      "spice_rack :  ['bookcase', 'elevator_car', 'carton', 'towel_rack', 'cooler_(for_food)']\n",
      "spice_rack :  [18.0, 1.0, 1.0, 1.0, 1.0] \n",
      "\n",
      "ping-pong_ball :  ['egg', 'ball', 'volleyball', 'tennis_ball', 'bob']\n",
      "ping-pong_ball :  [18.0, 4.0, 4.0, 2.0, 1.0] \n",
      "\n",
      "jet_plane :  ['airplane', 'fighter_jet', 'seaplane', 'space_shuttle', 'bullet_train']\n",
      "jet_plane :  [18.0, 14.0, 6.0, 1.0, 1.0] \n",
      "\n",
      "raincoat :  ['jacket', 'sweatshirt', 'ski_parka', 'ginger', 'robe']\n",
      "raincoat :  [18.0, 6.0, 1.0, 1.0, 1.0] \n",
      "\n",
      "tux :  ['penguin', 'person', 'pug-dog', 'place_mat', 'plow_(farm_equipment)']\n",
      "tux :  [18.0, 1.0, 1.0, 0.0, 0.0] \n",
      "\n",
      "book :  ['hardback_book', 'phonebook', 'tag', 'stove', 'bolo_tie']\n",
      "book :  [35.0, 2.0, 1.0, 1.0, 1.0] \n",
      "\n",
      "tiara :  ['crown', 'jewelry', 'ring', 'doll', 'peach']\n",
      "tiara :  [28.0, 4.0, 2.0, 1.0, 1.0] \n",
      "\n",
      "boom_microphone :  ['microphone', 'flashlight', 'stirrer', 'atomizer', 'tripod']\n",
      "boom_microphone :  [27.0, 3.0, 2.0, 2.0, 2.0] \n",
      "\n",
      "loveseat :  ['sofa', 'futon', 'sofa_bed', 'pocket_watch', 'poker_(fire_stirring_tool)']\n",
      "loveseat :  [39.0, 3.0, 2.0, 0.0, 0.0] \n",
      "\n",
      "elk :  ['deer', 'horned_cow', 'gazelle', 'rabbit', 'pitchfork']\n",
      "elk :  [58.0, 1.0, 1.0, 1.0, 1.0] \n",
      "\n",
      "shopping_bag :  ['tote_bag', 'shoulder_bag', 'basket', 'trousers', 'handbag']\n",
      "shopping_bag :  [24.0, 8.0, 4.0, 2.0, 2.0] \n",
      "\n",
      "cap_(headwear) :  ['baseball_cap', 'helmet', 'beanie', 'bowler_hat', 'backpack']\n",
      "cap_(headwear) :  [28.0, 5.0, 2.0, 2.0, 1.0] \n",
      "\n",
      "kitchen_table :  ['dining_table', 'desk', 'table', 'sawhorse', 'coffee_table']\n",
      "kitchen_table :  [20.0, 8.0, 4.0, 3.0, 1.0] \n",
      "\n",
      "control :  ['joystick', 'remote_control', 'shoe', 'goggles', 'button']\n",
      "control :  [99.0, 7.0, 3.0, 2.0, 2.0] \n",
      "\n",
      "shopping_cart :  ['cart', 'handcart', 'baby_buggy', 'toolbox', 'folding_chair']\n",
      "shopping_cart :  [26.0, 4.0, 1.0, 1.0, 1.0] \n",
      "\n",
      "goldfish :  ['fish', 'salmon_(fish)', 'dolphin', 'shark', 'fish_(food)']\n",
      "goldfish :  [36.0, 2.0, 1.0, 1.0, 1.0] \n",
      "\n",
      "mallard :  ['duck', 'goose', 'puffin', 'tux', 'bird']\n",
      "mallard :  [37.0, 4.0, 2.0, 1.0, 1.0] \n",
      "\n",
      "corkscrew :  ['bolt', 'bottle', 'beer_bottle', 'pizza', 'plume']\n",
      "corkscrew :  [35.0, 1.0, 1.0, 0.0, 0.0] \n",
      "\n",
      "earphone :  ['headset', 'pet', 'stirrer', 'rag_doll', 'faucet']\n",
      "earphone :  [52.0, 1.0, 1.0, 1.0, 1.0] \n",
      "\n",
      "patty_(food) :  ['hamburger', 'baguet', 'sandwich', 'octopus_(food)', 'bagel']\n",
      "patty_(food) :  [43.0, 2.0, 1.0, 1.0, 1.0] \n",
      "\n",
      "mallet :  ['hammer', 'ax', 'cowbell', 'ginger', 'paddle']\n",
      "mallet :  [58.0, 1.0, 1.0, 1.0, 1.0] \n",
      "\n",
      "motor_vehicle :  ['jeep', 'tractor_(farm_equipment)', 'tow_truck', 'motorcycle', 'horse_buggy']\n",
      "motor_vehicle :  [27.0, 11.0, 7.0, 7.0, 5.0] \n",
      "\n",
      "flagpole :  ['flag', 'bow_(weapon)', 'street_sign', 'lamppost', 'pizza']\n",
      "flagpole :  [25.0, 1.0, 1.0, 1.0, 0.0] \n",
      "\n",
      "musical_instrument :  ['guitar', 'banjo', 'violin', 'tambourine', 'bolo_tie']\n",
      "musical_instrument :  [22.0, 11.0, 5.0, 2.0, 2.0] \n",
      "\n",
      "chair :  ['folding_chair', 'pizza', 'pocket_watch', 'plume', 'plow_(farm_equipment)']\n",
      "chair :  [193.0, 0.0, 0.0, 0.0, 0.0] \n",
      "\n",
      "cider :  ['barrel', 'beer_bottle', 'beer_can', 'apple', 'reamer_(juicer)']\n",
      "cider :  [33.0, 3.0, 3.0, 1.0, 1.0] \n",
      "\n",
      "fish_(food) :  ['fish', 'omelet', 'bird', 'bait', 'salad_plate']\n",
      "fish_(food) :  [42.0, 1.0, 1.0, 1.0, 1.0] \n",
      "\n",
      "notebook :  ['hardback_book', 'phonebook', 'passenger_ship', 'book', 'diary']\n",
      "notebook :  [27.0, 3.0, 2.0, 2.0, 1.0] \n",
      "\n",
      "gun :  ['pistol', 'water_gun', 'machine_gun', 'puncher', 'drill']\n",
      "gun :  [63.0, 7.0, 7.0, 4.0, 4.0] \n",
      "\n",
      "blazer :  ['jacket', 'sweatshirt', 'blouse', 'suit_(clothing)', 'lab_coat']\n",
      "blazer :  [33.0, 11.0, 3.0, 2.0, 2.0] \n",
      "\n",
      "teakettle :  ['teapot', 'kettle', 'plume', 'pocketknife', 'plow_(farm_equipment)']\n",
      "teakettle :  [59.0, 2.0, 0.0, 0.0, 0.0] \n",
      "\n"
     ]
    }
   ],
   "source": [
    "top_confusion(objaverse_dict, ov_confusion, ov_res_norm)\n",
    "# orange_(fruit), egg_yolk, ping-pong_ball"
   ]
  },
  {
   "cell_type": "code",
   "execution_count": 27,
   "id": "101128b3-3b2e-430d-958c-212ba97eba0d",
   "metadata": {},
   "outputs": [],
   "source": [
    "# top_confusion(objaverse_dict, ov_res_norm, dim=0)"
   ]
  },
  {
   "cell_type": "code",
   "execution_count": null,
   "id": "c86d89b9-3e7b-4e5c-8dd8-50b241a1b1e7",
   "metadata": {},
   "outputs": [],
   "source": []
  },
  {
   "cell_type": "code",
   "execution_count": 7,
   "id": "5ee11a3a-7d7c-4f55-86c4-6bcf7cdb5c3c",
   "metadata": {},
   "outputs": [],
   "source": [
    "def plot_pointcloud(objaverse_dict, ov_xyz, ov_rgb, list_instance, apply_color=True, marker_size=4, opacity=0.2):\n",
    "    # objaverse_dict = torch.load(\"eval_data/objaverse_dict.pt\")\n",
    "    # ov_xyz = torch.load(\"eval_data/ov_xyz.pt\")\n",
    "    # ov_rgb = torch.load(\"eval_data/ov_rgb.pt\")\n",
    "    ov_idx2category = objaverse_dict[\"idx2category\"]\n",
    "    ov_category2idx = objaverse_dict[\"category2idx\"]\n",
    "    ov_labels_all = objaverse_dict[\"labels_all\"]\n",
    "\n",
    "    # idx = ov_category2idx[obj_name]\n",
    "    # obj_instance = np.random.choice(torch.where(ov_labels_all == idx)[0])\n",
    "    # print(f\"obj_instance: {obj_instance}\")\n",
    "\n",
    "    for ins in list_instance:\n",
    "        obj_xyz = ov_xyz[ins]\n",
    "        obj_rgb = ov_rgb[ins]*255\n",
    "        obj_rgb = obj_rgb.type(torch.int)\n",
    "        df = pd.DataFrame(obj_xyz, columns=[\"x\", \"y\", \"z\"])\n",
    "        \n",
    "        color_list = [f\"rgb({r}, {g}, {b})\" for [r, g, b] in obj_rgb]\n",
    "        # color_list = ['rgb(227, 119, 194)']*7000 + ['rgb(119, 227, 152)']*3000\n",
    "        \n",
    "        fig = px.scatter_3d(df, x=\"x\", y=\"y\", z=\"z\", opacity=0.1)\n",
    "        if apply_color:\n",
    "            fig = px.scatter_3d(df, x=\"x\", y=\"y\", z=\"z\", color = color_list, color_discrete_map=\"identity\", opacity=opacity)\n",
    "        fig.update_traces(marker_size = marker_size)\n",
    "        fig.show()\n",
    "    "
   ]
  },
  {
   "cell_type": "code",
   "execution_count": 19,
   "id": "a4ea361e-8b73-4854-ae31-9c8c845f0579",
   "metadata": {},
   "outputs": [],
   "source": [
    "# def plot_multiple_same_obj(objaverse_dict, ov_xyz, ov_rgb, obj_name, num_ins):\n",
    "#     ov_idx2category = objaverse_dict[\"idx2category\"]\n",
    "#     idx = ov_category2idx[obj_name]\n",
    "#     ov_labels_all = objaverse_dict[\"labels_all\"]\n",
    "#     all_ins = torch.where(ov_labels_all == idx)[0]\n",
    "#     list_ins = np.random.choice(all_ins, size = num_ins, replace=False)\n",
    "#     plot_pointcloud(objaverse_dict, ov_xyz, ov_rgb, list_ins, apply_color=True)"
   ]
  },
  {
   "cell_type": "code",
   "execution_count": 8,
   "id": "4080b8db-c4be-4b95-8560-4a1e76a45acc",
   "metadata": {},
   "outputs": [],
   "source": [
    "# Given a list of object, it will plot random instances of those objects. Total num_ins plots\n",
    "def plot_multiple_ins(objaverse_dict, ov_xyz, ov_rgb, obj_list, num_ins):\n",
    "    ov_idx2category = objaverse_dict[\"idx2category\"]\n",
    "    ov_category2idx = objaverse_dict[\"category2idx\"]\n",
    "    idx = torch.tensor([ov_category2idx[o] for o in obj_list])\n",
    "    # idx = ov_category2idx[obj_name]\n",
    "    ov_labels_all = objaverse_dict[\"labels_all\"]\n",
    "    mask = torch.isin(ov_labels_all, idx)\n",
    "    indices = torch.nonzero(mask).flatten()\n",
    "    \n",
    "    # all_ins = torch.where(ov_labels_all == idx)[0]\n",
    "    list_ins = np.random.choice(indices, size = num_ins, replace=False)\n",
    "    plot_pointcloud(objaverse_dict, ov_xyz, ov_rgb, list_ins, apply_color=True)\n",
    "    objs = [ov_idx2category[o.item()] for o in ov_labels_all[list_ins]]\n",
    "    return objs"
   ]
  },
  {
   "cell_type": "code",
   "execution_count": 9,
   "id": "aa0981ed-6c85-4ee1-b043-f008f96b17a5",
   "metadata": {},
   "outputs": [],
   "source": [
    "# Where true is vodka but pred is water_bottle\n",
    "def plot_multiple_confused_obj(objaverse_dict, ov_xyz, ov_rgb, true_obj, pred_obj_list, num_ins):\n",
    "    ov_idx2category = objaverse_dict[\"idx2category\"]\n",
    "    ov_labels_all = objaverse_dict[\"labels_all\"]\n",
    "    \n",
    "    idx = torch.tensor([ov_category2idx[o] for o in pred_obj_list])\n",
    "    # idx = ov_category2idx[obj_name]\n",
    "    ov_confusion\n",
    "    \n",
    "    all_ins = torch.where(ov_labels_all == idx)[0]\n",
    "    list_ins = np.random.choice(all_ins, size = num_ins, replace=False)\n",
    "    plot_pointcloud(objaverse_dict, ov_xyz, ov_rgb, list_ins, apply_color=True)"
   ]
  },
  {
   "cell_type": "code",
   "execution_count": 2,
   "id": "6066509f-bf04-41f7-8e1d-a97fd4696269",
   "metadata": {
    "scrolled": true
   },
   "outputs": [],
   "source": [
    "# objs = plot_multiple_ins(objaverse_dict, ov_xyz, ov_rgb, ['sherbert', 'icecream', 'popsicle', 'plow_(farm_equipment)', 'pocket_watch', 'pliers'], 4)\n",
    "objs = plot_multiple_ins(objaverse_dict, ov_xyz, ov_rgb, ['shopping_bag'], 1)"
   ]
  },
  {
   "cell_type": "code",
   "execution_count": 31,
   "id": "0d69413c-10f8-493f-b28e-372a8c67623f",
   "metadata": {},
   "outputs": [
    {
     "data": {
      "text/plain": [
       "['pickle', 'cucumber', 'pickle']"
      ]
     },
     "execution_count": 31,
     "metadata": {},
     "output_type": "execute_result"
    }
   ],
   "source": [
    "objs"
   ]
  },
  {
   "cell_type": "code",
   "execution_count": 33,
   "id": "9d418cd9-0091-4d6d-a1e5-7ceecd831141",
   "metadata": {},
   "outputs": [
    {
     "data": {
      "text/plain": [
       "['fighter_jet',\n",
       " 'fighter_jet',\n",
       " 'fighter_jet',\n",
       " 'fighter_jet',\n",
       " 'fighter_jet',\n",
       " 'fighter_jet']"
      ]
     },
     "execution_count": 33,
     "metadata": {},
     "output_type": "execute_result"
    }
   ],
   "source": [
    "objs"
   ]
  },
  {
   "cell_type": "code",
   "execution_count": 15,
   "id": "c5c56fb9-7f80-4fdb-bb16-b03415b57d73",
   "metadata": {},
   "outputs": [
    {
     "data": {
      "text/plain": [
       "tensor(51.)"
      ]
     },
     "execution_count": 15,
     "metadata": {},
     "output_type": "execute_result"
    }
   ],
   "source": [
    "sum(ov_confusion[1101])"
   ]
  },
  {
   "cell_type": "code",
   "execution_count": 16,
   "id": "f3189b3c-55d2-4886-9215-53a501365677",
   "metadata": {},
   "outputs": [
    {
     "data": {
      "text/plain": [
       "tensor(3.)"
      ]
     },
     "execution_count": 16,
     "metadata": {},
     "output_type": "execute_result"
    }
   ],
   "source": [
    "ov_confusion[1101][1101]"
   ]
  },
  {
   "cell_type": "code",
   "execution_count": 19,
   "id": "1ae2ffad-4505-40ed-b3c8-a1cc031d52e6",
   "metadata": {},
   "outputs": [],
   "source": [
    "ov_copy = ov_confusion.clone()"
   ]
  },
  {
   "cell_type": "code",
   "execution_count": 21,
   "id": "30b5b0d2-3898-458a-bfd6-c81741daa7c7",
   "metadata": {},
   "outputs": [],
   "source": [
    "ov_copy = ov_copy.fill_diagonal_(0)"
   ]
  },
  {
   "cell_type": "code",
   "execution_count": 24,
   "id": "4a3effa7-7e83-40cc-b0c8-a8a31559dac3",
   "metadata": {},
   "outputs": [
    {
     "data": {
      "text/plain": [
       "tensor([[ 0.,  0.,  0.,  ...,  0.,  0.,  0.],\n",
       "        [ 0.,  2.,  0.,  ...,  0.,  0.,  0.],\n",
       "        [ 0.,  0.,  0.,  ...,  0.,  0.,  0.],\n",
       "        ...,\n",
       "        [ 0.,  0.,  0.,  ...,  9.,  0.,  0.],\n",
       "        [ 0.,  0.,  0.,  ...,  0., 11.,  0.],\n",
       "        [ 0.,  0.,  0.,  ...,  0.,  0.,  4.]])"
      ]
     },
     "execution_count": 24,
     "metadata": {},
     "output_type": "execute_result"
    }
   ],
   "source": [
    "ov_confusion"
   ]
  },
  {
   "cell_type": "code",
   "execution_count": 22,
   "id": "c66f83d6-2ac0-4085-bbe0-081449b1bb01",
   "metadata": {},
   "outputs": [
    {
     "data": {
      "text/plain": [
       "tensor([[0., 0., 0.,  ..., 0., 0., 0.],\n",
       "        [0., 0., 0.,  ..., 0., 0., 0.],\n",
       "        [0., 0., 0.,  ..., 0., 0., 0.],\n",
       "        ...,\n",
       "        [0., 0., 0.,  ..., 0., 0., 0.],\n",
       "        [0., 0., 0.,  ..., 0., 0., 0.],\n",
       "        [0., 0., 0.,  ..., 0., 0., 0.]])"
      ]
     },
     "execution_count": 22,
     "metadata": {},
     "output_type": "execute_result"
    }
   ],
   "source": [
    "ov_copy"
   ]
  },
  {
   "cell_type": "code",
   "execution_count": 27,
   "id": "661a2f7e-75ae-46a0-b3ae-2af5eaeeced2",
   "metadata": {},
   "outputs": [
    {
     "data": {
      "text/plain": [
       "tensor(48.)"
      ]
     },
     "execution_count": 27,
     "metadata": {},
     "output_type": "execute_result"
    }
   ],
   "source": [
    "sum(ov_copy[1101, :])"
   ]
  },
  {
   "cell_type": "code",
   "execution_count": 23,
   "id": "3a9178fb-36f3-4a36-8c10-5bbe03be8326",
   "metadata": {},
   "outputs": [
    {
     "data": {
      "text/plain": [
       "1101"
      ]
     },
     "execution_count": 23,
     "metadata": {},
     "output_type": "execute_result"
    }
   ],
   "source": [
    "ov_category2idx[\"vodka\"]"
   ]
  },
  {
   "cell_type": "code",
   "execution_count": null,
   "id": "62ff85fd-708b-4911-8de2-2a61a8517269",
   "metadata": {},
   "outputs": [],
   "source": []
  },
  {
   "cell_type": "code",
   "execution_count": null,
   "id": "83564ca7-7a40-471b-8b02-f3690ebbf3ac",
   "metadata": {},
   "outputs": [],
   "source": []
  },
  {
   "cell_type": "code",
   "execution_count": null,
   "id": "104bbdb9-6ffd-44bc-a71c-b6a3922007b2",
   "metadata": {},
   "outputs": [],
   "source": []
  },
  {
   "cell_type": "code",
   "execution_count": null,
   "id": "558ed311-5490-40cc-acfe-e1ab55e6cb43",
   "metadata": {},
   "outputs": [],
   "source": []
  },
  {
   "cell_type": "code",
   "execution_count": null,
   "id": "6d4632a9-0a03-4e86-9d84-9502f1f47eff",
   "metadata": {},
   "outputs": [],
   "source": []
  },
  {
   "cell_type": "code",
   "execution_count": null,
   "id": "9dc15dc8-42d0-4cf6-9a47-68490eb6c1ec",
   "metadata": {},
   "outputs": [],
   "source": []
  },
  {
   "cell_type": "code",
   "execution_count": null,
   "id": "be1e9a4d-c493-4810-a02b-799c1ba2306b",
   "metadata": {},
   "outputs": [],
   "source": []
  },
  {
   "cell_type": "code",
   "execution_count": null,
   "id": "11f10baa-8e6b-4e5b-a0bc-5d02ef52809b",
   "metadata": {},
   "outputs": [],
   "source": []
  }
 ],
 "metadata": {
  "kernelspec": {
   "display_name": "Python 3 (ipykernel)",
   "language": "python",
   "name": "python3"
  },
  "language_info": {
   "codemirror_mode": {
    "name": "ipython",
    "version": 3
   },
   "file_extension": ".py",
   "mimetype": "text/x-python",
   "name": "python",
   "nbconvert_exporter": "python",
   "pygments_lexer": "ipython3",
   "version": "3.10.13"
  }
 },
 "nbformat": 4,
 "nbformat_minor": 5
}
