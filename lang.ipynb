{
 "cells": [
  {
   "cell_type": "code",
   "execution_count": 1,
   "metadata": {},
   "outputs": [],
   "source": [
    "import torch\n",
    "import numpy as np\n",
    "from numpy.linalg import norm\n",
    "from sklearn.cluster import KMeans, DBSCAN\n",
    "import torch.nn.functional as F"
   ]
  },
  {
   "cell_type": "code",
   "execution_count": 2,
   "metadata": {},
   "outputs": [],
   "source": [
    "# device = torch.device('cuda' if torch.cuda.is_available() else 'cpu')\n",
    "clip_feat_path = \"meta_data/lvis_cat_name_pt_feat.npy\"\n",
    "clip_cat_feat = np.load(clip_feat_path, allow_pickle=True)\n",
    "objaverse_dict = torch.load(\"src/eval_data/objaverse_dict.pt\")\n",
    "ov_category2idx = objaverse_dict[\"category2idx\"]\n",
    "ov_idx2category = objaverse_dict[\"idx2category\"]\n",
    "ov_category2idx = objaverse_dict[\"category2idx\"] \n",
    "\n",
    "# print(\"clip_cat_feat: \", clip_cat_feat.shape) # (1156, 1280)\n",
    "# clip_cat_feat = F.normalize(clip_cat_feat, dim=-1)\n",
    "clip_cat_feat = clip_cat_feat / norm(clip_cat_feat, axis=1, keepdims=True)\n",
    "\n",
    "eps = 0.61855\n",
    "db_scan = DBSCAN(eps=eps, min_samples=2).fit(clip_cat_feat)\n",
    "dbscan_labels = db_scan.labels_"
   ]
  },
  {
   "cell_type": "code",
   "execution_count": 3,
   "metadata": {},
   "outputs": [
    {
     "name": "stdout",
     "output_type": "stream",
     "text": [
      "obj_list:  6\n",
      "obj_list:  ['car_(automobile)', 'convertible_(automobile)', 'generator', 'motor', 'motor_vehicle', 'race_car']\n"
     ]
    }
   ],
   "source": [
    "obj_idx = ov_category2idx[\"motor_vehicle\"]\n",
    "val = dbscan_labels[obj_idx]\n",
    "idx = np.argwhere(dbscan_labels == val)\n",
    "\n",
    "obj_list = []\n",
    "for i in idx:\n",
    "    obj_list.append(ov_idx2category[i.item()])\n",
    "\n",
    "print(\"obj_list: \", len(obj_list))\n",
    "print(\"obj_list: \", obj_list)\n"
   ]
  },
  {
   "cell_type": "code",
   "execution_count": 8,
   "metadata": {},
   "outputs": [],
   "source": [
    "top_xy_dict = np.load(\"src/eval_data/top_xy_dict.npy\", allow_pickle=True).item()\n",
    "# def get_cat_count(top_xy_dict):\n",
    "#     cat = top_xy_dict[\"cats\"]\n",
    "#     count = top_xy_dict[\"count\"]\n"
   ]
  },
  {
   "cell_type": "code",
   "execution_count": 5,
   "metadata": {},
   "outputs": [],
   "source": [
    "# top_xy_dict"
   ]
  },
  {
   "cell_type": "code",
   "execution_count": 9,
   "metadata": {},
   "outputs": [],
   "source": [
    "def get_cluster(idx, dbscan_labels):\n",
    "    val = dbscan_labels[idx]\n",
    "    idx = np.argwhere(dbscan_labels == val)\n",
    "\n",
    "    obj_list = []\n",
    "    for i in idx:\n",
    "        obj_list.append(ov_idx2category[i.item()])\n",
    "\n",
    "    print(\"obj_list: \", len(obj_list))\n",
    "    print(\"obj_list: \", obj_list)"
   ]
  },
  {
   "cell_type": "code",
   "execution_count": 7,
   "metadata": {},
   "outputs": [],
   "source": [
    "top_40 = [1101,  142,  114,  169,  898,  426, 1025,  312,  438,  950,  758,  554,\n",
    "         826, 1083,  118, 1037,  122,  612,  386,  902,  189,  568,  270,  903,\n",
    "         464,  618,  278,  372,  724,  619,  658,  414,  667,  210,  229,  410,\n",
    "         678,  483,  106, 1019]"
   ]
  },
  {
   "cell_type": "code",
   "execution_count": 10,
   "metadata": {},
   "outputs": [
    {
     "name": "stdout",
     "output_type": "stream",
     "text": [
      "teakettle\n"
     ]
    }
   ],
   "source": [
    "cat_idx = 1019\n",
    "print(ov_idx2category[cat_idx])"
   ]
  },
  {
   "cell_type": "code",
   "execution_count": 11,
   "metadata": {},
   "outputs": [
    {
     "name": "stdout",
     "output_type": "stream",
     "text": [
      "obj_list:  9\n",
      "obj_list:  ['coffee_maker', 'coffeepot', 'cup', 'kettle', 'mug', 'teacup', 'teakettle', 'teapot', 'trophy_cup']\n"
     ]
    }
   ],
   "source": [
    "get_cluster(cat_idx, dbscan_labels)"
   ]
  },
  {
   "cell_type": "code",
   "execution_count": 12,
   "metadata": {},
   "outputs": [
    {
     "data": {
      "text/plain": [
       "{'cat_name': ['teapot',\n",
       "  'kettle',\n",
       "  'plume',\n",
       "  'pocketknife',\n",
       "  'plow_(farm_equipment)'],\n",
       " 'count': [59.0, 2.0, 0.0, 0.0, 0.0],\n",
       " 'cats': [1020, 562, 775, 777, 774]}"
      ]
     },
     "execution_count": 12,
     "metadata": {},
     "output_type": "execute_result"
    }
   ],
   "source": [
    "top_xy_dict[cat_idx]"
   ]
  },
  {
   "cell_type": "code",
   "execution_count": null,
   "metadata": {},
   "outputs": [],
   "source": [
    "[464, 409, 861]\n",
    "[372, 510]\n",
    "[106, 548]\n",
    "[1019, 1020, 562]\n",
    "\n",
    "1019, 106, 372, 464"
   ]
  },
  {
   "cell_type": "code",
   "execution_count": null,
   "metadata": {},
   "outputs": [],
   "source": [
    "[464, 409, 861]\n",
    "[372, 510]\n",
    "[106, 548]\n",
    "[1019, 1020, 562]\n",
    "\n",
    "arr = [464, 409, 861, 372, 510, 106, 548, 1019, 1020, 562]"
   ]
  },
  {
   "cell_type": "code",
   "execution_count": null,
   "metadata": {},
   "outputs": [],
   "source": [
    "# print(\"dbscan: \", db_scan.labels_)\n",
    "print(\"eps: \", eps)\n",
    "print(\"dbscan: \", np.unique(db_scan.labels_))"
   ]
  }
 ],
 "metadata": {
  "kernelspec": {
   "display_name": "notebook",
   "language": "python",
   "name": "python3"
  },
  "language_info": {
   "codemirror_mode": {
    "name": "ipython",
    "version": 3
   },
   "file_extension": ".py",
   "mimetype": "text/x-python",
   "name": "python",
   "nbconvert_exporter": "python",
   "pygments_lexer": "ipython3",
   "version": "3.10.13"
  }
 },
 "nbformat": 4,
 "nbformat_minor": 2
}
